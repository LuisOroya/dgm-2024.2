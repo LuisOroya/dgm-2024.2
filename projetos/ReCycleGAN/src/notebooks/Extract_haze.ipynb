{
 "cells": [
  {
   "cell_type": "markdown",
   "metadata": {},
   "source": [
    "# Extract DayNight Images\n",
    "\n",
    "Create DayNight database for model training."
   ]
  },
  {
   "cell_type": "code",
   "execution_count": null,
   "metadata": {},
   "outputs": [],
   "source": [
    "%pip install -qU scikit-learn"
   ]
  },
  {
   "cell_type": "code",
   "execution_count": 35,
   "metadata": {},
   "outputs": [],
   "source": [
    "import sys\n",
    "from pathlib import Path\n",
    "import pandas as pd\n",
    "\n",
    "current_dir = Path().resolve()\n",
    "sys.path.append(str(current_dir.parent))\n",
    "\n",
    "import utils\n",
    "import os\n",
    "\n",
    "dataset_folder = Path('../../data/external/o_haze')"
   ]
  },
  {
   "cell_type": "code",
   "execution_count": null,
   "metadata": {},
   "outputs": [],
   "source": [
    "file_list = [str(image.relative_to(dataset_folder)) for folder in dataset_folder.iterdir() if folder.is_dir() for image in folder.iterdir()]\n",
    "label_list = ['hazy' if 'hazy' in file else 'gt' for file in file_list]\n",
    "\n",
    "output = {'filename': file_list,\n",
    "\t\t  'label': label_list}\n",
    "\n",
    "df_labels = pd.DataFrame(output)\n",
    "df_labels"
   ]
  },
  {
   "cell_type": "code",
   "execution_count": null,
   "metadata": {},
   "outputs": [],
   "source": [
    "df_count_list = []\n",
    "for folder in list(dataset_folder.iterdir()):\n",
    "    df_count = utils.img_size_count(folder, extension='jpg')\n",
    "    df_count_list.append(df_count)\n",
    "    \n",
    "utils.img_size_count_plot(df_count, show=True)"
   ]
  },
  {
   "cell_type": "code",
   "execution_count": null,
   "metadata": {},
   "outputs": [],
   "source": [
    "folders = {\n",
    "        'hazy': {'label':['hazy']},\n",
    "        'gt': {'label':['gt']}\n",
    "    }\n",
    "\n",
    "for out_folder, df_filter in folders.items():\n",
    "    img_list = file_list\n",
    "\n",
    "    output_folder_path = dataset_folder / out_folder\n",
    "    output_folder_path.mkdir(parents=True, exist_ok=True)\n",
    "    \n",
    "    utils.Images.build_dataset(\n",
    "        img_list=img_list,  # Relative paths\n",
    "        img_folder=dataset_folder,  # Base folder\n",
    "        output_folder=dataset_folder / out_folder,  # Output folder\n",
    "        transformation_function=utils.resize_and_crop,\n",
    "        transformation_params={'target_size': (256, 256), 'size_filter': [(1600, 1200)]},\n",
    "        split=0.8,\n",
    "        random_seed=42\n",
    "    )"
   ]
  }
 ],
 "metadata": {
  "kernelspec": {
   "display_name": "Python 3",
   "language": "python",
   "name": "python3"
  },
  "language_info": {
   "codemirror_mode": {
    "name": "ipython",
    "version": 3
   },
   "file_extension": ".py",
   "mimetype": "text/x-python",
   "name": "python",
   "nbconvert_exporter": "python",
   "pygments_lexer": "ipython3",
   "version": "3.11.10"
  }
 },
 "nbformat": 4,
 "nbformat_minor": 2
}
