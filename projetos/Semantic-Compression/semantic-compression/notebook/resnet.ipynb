{
 "cells": [
  {
   "cell_type": "code",
   "execution_count": 1,
   "metadata": {},
   "outputs": [
    {
     "name": "stderr",
     "output_type": "stream",
     "text": [
      "2024-09-24 10:00:54.667969: I tensorflow/core/util/port.cc:113] oneDNN custom operations are on. You may see slightly different numerical results due to floating-point round-off errors from different computation orders. To turn them off, set the environment variable `TF_ENABLE_ONEDNN_OPTS=0`.\n",
      "2024-09-24 10:00:54.671373: I external/local_tsl/tsl/cuda/cudart_stub.cc:32] Could not find cuda drivers on your machine, GPU will not be used.\n",
      "2024-09-24 10:00:54.849776: I external/local_tsl/tsl/cuda/cudart_stub.cc:32] Could not find cuda drivers on your machine, GPU will not be used.\n",
      "2024-09-24 10:00:55.605379: I tensorflow/core/platform/cpu_feature_guard.cc:210] This TensorFlow binary is optimized to use available CPU instructions in performance-critical operations.\n",
      "To enable the following instructions: AVX2 AVX_VNNI FMA, in other operations, rebuild TensorFlow with the appropriate compiler flags.\n",
      "2024-09-24 10:00:56.557494: W tensorflow/compiler/tf2tensorrt/utils/py_utils.cc:38] TF-TRT Warning: Could not find TensorRT\n"
     ]
    }
   ],
   "source": [
    "import h5py\n",
    "import numpy as np\n",
    "import tensorflow as tf\n",
    "from tensorflow.keras.models import Sequential\n",
    "from tensorflow.keras.layers import Conv2D, Flatten, Dense\n",
    "from tensorflow.keras.optimizers import Adam\n",
    "from sklearn.model_selection import train_test_split\n",
    "\n",
    "from sklearn.model_selection import GridSearchCV\n",
    "from skorch import NeuralNetClassifier\n",
    "from skorch.callbacks import EarlyStopping\n",
    "from torchvision.transforms import ToTensor\n",
    "from sklearn.metrics import accuracy_score\n",
    "from sklearn.preprocessing import LabelBinarizer\n",
    "import tensorflow as tf\n",
    "from tensorflow.keras.layers import Input, Conv2D, BatchNormalization, ReLU, Add, GlobalAveragePooling2D, Dense, MaxPooling2D\n",
    "from tensorflow.keras.callbacks import ModelCheckpoint, EarlyStopping\n",
    "from tensorflow.keras.models import Model\n",
    "from sklearn.preprocessing import LabelBinarizer\n",
    "from scikeras.wrappers import KerasClassifier\n",
    "from keras_tuner import RandomSearch\n",
    "from tensorflow.keras.utils import to_categorical\n",
    "from tensorflow.keras.models import load_model\n",
    "from sklearn.metrics import mean_squared_error, mean_absolute_error, r2_score\n",
    "import matplotlib.pyplot as plt\n",
    "\n"
   ]
  },
  {
   "cell_type": "code",
   "execution_count": null,
   "metadata": {},
   "outputs": [],
   "source": [
    "def block(x, filters, kernel_size=3, stride=1):\n",
    "\n",
    "    shortcut = x\n",
    "    x = Conv2D(filters, kernel_size=kernel_size, strides=stride, padding='same')(x)\n",
    "    x = BatchNormalization()(x)\n",
    "    x = ReLU()(x)\n",
    "\n",
    "    x = Conv2D(filters, kernel_size=kernel_size, strides=stride, padding='same')(x)\n",
    "    x = BatchNormalization()(x)\n",
    "\n",
    "\n",
    "    if stride != 1 or shortcut.shape[-1] != filters:\n",
    "        shortcut = Conv2D(filters, kernel_size=1, strides=stride, padding='same')(shortcut)\n",
    "\n",
    "    x = Add()([x, shortcut])\n",
    "    #x = ReLU()(x)\n",
    "    return x"
   ]
  },
  {
   "cell_type": "code",
   "execution_count": 2,
   "metadata": {},
   "outputs": [],
   "source": [
    "def residual_block(x, filters, kernel_size=3, stride=1):\n",
    "\n",
    "    shortcut = x\n",
    "\n",
    "    x = block(x, filters, kernel_size=kernel_size, stride=stride)\n",
    "    x = block(x, filters, kernel_size=kernel_size, stride=stride)\n",
    "    x = block(x, filters, kernel_size=kernel_size, stride=stride)\n",
    "\n",
    "    if stride != 1 or shortcut.shape[-1] != filters:\n",
    "        shortcut = Conv2D(filters, kernel_size=1, strides=stride, padding='same')(shortcut)\n",
    "\n",
    "    x = Add()([x, shortcut])\n",
    "    \n",
    "    return x"
   ]
  },
  {
   "cell_type": "code",
   "execution_count": null,
   "metadata": {},
   "outputs": [],
   "source": [
    "stride = 1\n",
    "filters = 128"
   ]
  },
  {
   "cell_type": "code",
   "execution_count": null,
   "metadata": {},
   "outputs": [],
   "source": [
    "input_tensor = Input(shape=(2, 64, 64))"
   ]
  },
  {
   "cell_type": "code",
   "execution_count": null,
   "metadata": {},
   "outputs": [],
   "source": [
    "shortcut = input_tensor"
   ]
  },
  {
   "cell_type": "code",
   "execution_count": null,
   "metadata": {},
   "outputs": [],
   "source": [
    "#início encoder\n",
    "x = Conv2D(64, kernel_size=5, strides=2, padding='same')(input_tensor)\n",
    "x = BatchNormalization()(x)\n",
    "x = ReLU()(x)\n",
    "x = Conv2D(filters, kernel_size=5, strides=2, padding='same')(x)\n",
    "x = BatchNormalization()(x)\n",
    "x = ReLU()(x)"
   ]
  },
  {
   "cell_type": "code",
   "execution_count": null,
   "metadata": {},
   "outputs": [],
   "source": [
    "x = residual_block(x, filters, stride)\n",
    "x = residual_block(x, filters, stride)\n",
    "x = residual_block(x, filters, stride)\n",
    "x = residual_block(x, filters, stride)\n",
    "x = residual_block(x, filters, stride)\n",
    "\n",
    "x = residual_block(x, filters, stride)\n",
    "x = residual_block(x, filters, stride)\n",
    "x = residual_block(x, filters, stride)\n",
    "x = residual_block(x, filters, stride)\n",
    "x = residual_block(x, filters, stride)\n",
    "\n",
    "x = residual_block(x, filters, stride)\n",
    "x = residual_block(x, filters, stride)\n",
    "x = residual_block(x, filters, stride)\n",
    "x = residual_block(x, filters, stride)\n",
    "x = residual_block(x, filters, stride)"
   ]
  },
  {
   "cell_type": "code",
   "execution_count": null,
   "metadata": {},
   "outputs": [],
   "source": [
    "x = block(x, filters, kernel_size=3, stride = 1)"
   ]
  },
  {
   "cell_type": "code",
   "execution_count": null,
   "metadata": {},
   "outputs": [],
   "source": [
    "if stride != 1 or shortcut.shape[-1] != filters:\n",
    "        shortcut = Conv2D(filters, kernel_size=1, strides=stride, padding='same')(shortcut)\n",
    "\n",
    "\n",
    "x = Add()([x, shortcut])"
   ]
  },
  {
   "cell_type": "code",
   "execution_count": null,
   "metadata": {},
   "outputs": [],
   "source": [
    "x = Conv2D(filters, kernel_size=5, strides=2, padding='same')(x)\n",
    "x = BatchNormalization()(x)\n",
    "#fim encoder"
   ]
  },
  {
   "cell_type": "code",
   "execution_count": null,
   "metadata": {},
   "outputs": [],
   "source": []
  },
  {
   "cell_type": "code",
   "execution_count": null,
   "metadata": {},
   "outputs": [],
   "source": [
    "#início decoder\n",
    "x = Conv2D(filters, kernel_size=3, strides=2, padding='same')(x)\n",
    "x = BatchNormalization()(x)\n",
    "x = ReLU()(x)"
   ]
  },
  {
   "cell_type": "code",
   "execution_count": null,
   "metadata": {},
   "outputs": [],
   "source": [
    "x = residual_block(x, filters, stride)\n",
    "x = residual_block(x, filters, stride)\n",
    "x = residual_block(x, filters, stride)\n",
    "x = residual_block(x, filters, stride)\n",
    "x = residual_block(x, filters, stride)\n",
    "\n",
    "x = residual_block(x, filters, stride)\n",
    "x = residual_block(x, filters, stride)\n",
    "x = residual_block(x, filters, stride)\n",
    "x = residual_block(x, filters, stride)\n",
    "x = residual_block(x, filters, stride)\n",
    "\n",
    "x = residual_block(x, filters, stride)\n",
    "x = residual_block(x, filters, stride)\n",
    "x = residual_block(x, filters, stride)\n",
    "x = residual_block(x, filters, stride)\n",
    "x = residual_block(x, filters, stride)"
   ]
  },
  {
   "cell_type": "code",
   "execution_count": null,
   "metadata": {},
   "outputs": [],
   "source": [
    "x = block(x, filters, kernel_size=3, stride = 1)"
   ]
  },
  {
   "cell_type": "code",
   "execution_count": null,
   "metadata": {},
   "outputs": [],
   "source": [
    "if stride != 1 or shortcut.shape[-1] != filters:\n",
    "        shortcut = Conv2D(filters, kernel_size=1, strides=stride, padding='same')(shortcut)\n",
    "\n",
    "\n",
    "x = Add()([x, shortcut])"
   ]
  },
  {
   "cell_type": "code",
   "execution_count": null,
   "metadata": {},
   "outputs": [],
   "source": [
    "x = Conv2D(3, kernel_size=5, strides=2, padding='same')(input_tensor)\n",
    "x = BatchNormalization()(x)\n",
    "x = ReLU()(x)"
   ]
  },
  {
   "cell_type": "code",
   "execution_count": null,
   "metadata": {},
   "outputs": [],
   "source": [
    "x = Conv2D(64, kernel_size=5, strides=2, padding='same')(input_tensor)\n",
    "x = BatchNormalization()(x)\n",
    "#fim decoder"
   ]
  }
 ],
 "metadata": {
  "kernelspec": {
   "display_name": "Python 3",
   "language": "python",
   "name": "python3"
  },
  "language_info": {
   "codemirror_mode": {
    "name": "ipython",
    "version": 3
   },
   "file_extension": ".py",
   "mimetype": "text/x-python",
   "name": "python",
   "nbconvert_exporter": "python",
   "pygments_lexer": "ipython3",
   "version": "3.10.12"
  }
 },
 "nbformat": 4,
 "nbformat_minor": 2
}
