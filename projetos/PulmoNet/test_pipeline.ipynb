{
 "cells": [
  {
   "cell_type": "markdown",
   "metadata": {},
   "source": [
    "# Test pipeline"
   ]
  },
  {
   "cell_type": "markdown",
   "metadata": {},
   "source": [
    "### Definições iniciais"
   ]
  },
  {
   "cell_type": "code",
   "execution_count": 1,
   "metadata": {},
   "outputs": [],
   "source": [
    "import torch\n",
    "from torch.utils.data import Dataset, DataLoader\n",
    "from torchvision import transforms\n",
    "from scipy.linalg import sqrtm\n",
    "from tqdm import trange\n",
    "import random\n",
    "random.seed(5)\n",
    "import matplotlib.pyplot as plt\n",
    "import numpy as np"
   ]
  },
  {
   "cell_type": "code",
   "execution_count": 2,
   "metadata": {},
   "outputs": [],
   "source": [
    "from datasets import lungCTData\n",
    "from metrics import calculate_fid, FeatureExtractor, get_features\n",
    "from metrics import my_ssim"
   ]
  },
  {
   "cell_type": "code",
   "execution_count": 3,
   "metadata": {},
   "outputs": [],
   "source": [
    "device = torch.device('cuda' if torch.cuda.is_available() else 'cpu')"
   ]
  },
  {
   "cell_type": "markdown",
   "metadata": {},
   "source": [
    "### Dados"
   ]
  },
  {
   "cell_type": "code",
   "execution_count": 4,
   "metadata": {},
   "outputs": [],
   "source": [
    "# Ajustar isso aqui para pasta com dados de teste\n",
    "processed_data_folder = 'C:/Users/julia/OneDrive/Desktop/xuxu/IA376/projeto_final/dataset/Amostras'"
   ]
  },
  {
   "cell_type": "code",
   "execution_count": 5,
   "metadata": {},
   "outputs": [],
   "source": [
    "dataset_test = lungCTData(processed_data_folder=processed_data_folder,mode='test')"
   ]
  },
  {
   "cell_type": "code",
   "execution_count": 6,
   "metadata": {},
   "outputs": [
    {
     "data": {
      "text/plain": [
       "(10, 2, 1, 512, 512)"
      ]
     },
     "execution_count": 6,
     "metadata": {},
     "output_type": "execute_result"
    }
   ],
   "source": [
    "np.shape(dataset_test)"
   ]
  },
  {
   "cell_type": "markdown",
   "metadata": {},
   "source": [
    "# Calcula o FID"
   ]
  },
  {
   "cell_type": "code",
   "execution_count": 7,
   "metadata": {},
   "outputs": [
    {
     "name": "stderr",
     "output_type": "stream",
     "text": [
      "Using cache found in C:\\Users\\julia/.cache\\torch\\hub\\pytorch_vision_v0.10.0\n"
     ]
    }
   ],
   "source": [
    "# Define a rede Inception V3\n",
    "model = torch.hub.load('pytorch/vision:v0.10.0', 'inception_v3', pretrained=True)\n",
    "model.eval()\n",
    "\n",
    "# Define modelo para feature extraction\n",
    "feature_extractor = FeatureExtractor(model)"
   ]
  },
  {
   "cell_type": "code",
   "execution_count": 8,
   "metadata": {},
   "outputs": [],
   "source": [
    "# Obtém as features dos conjuntos de dados reais e dados sintéticos\n",
    "features_real = get_features(feature_extractor, [0,1,2,3,4],dataset_test, choose_transform=2)\n",
    "features_fake = get_features(feature_extractor, [5,6,7,8,9],dataset_test, choose_transform=2)"
   ]
  },
  {
   "cell_type": "code",
   "execution_count": 9,
   "metadata": {},
   "outputs": [
    {
     "name": "stdout",
     "output_type": "stream",
     "text": [
      "FID: 0.00\n"
     ]
    }
   ],
   "source": [
    "# Obtém a distribuições dos dados reais\n",
    "mu1, sigma1 = np.mean(np.squeeze(features_real),axis=0), np.cov(np.squeeze(features_real))\n",
    "\n",
    "# Calcula o FID dentro de uma mesma distribuição (só para testar se dá zero mesmo)\n",
    "fid_value = calculate_fid(mu1, sigma1, mu1, sigma1)\n",
    "print(f\"FID: {fid_value:.2f}\")"
   ]
  },
  {
   "cell_type": "code",
   "execution_count": 10,
   "metadata": {},
   "outputs": [
    {
     "name": "stdout",
     "output_type": "stream",
     "text": [
      "FID: 24.98\n"
     ]
    }
   ],
   "source": [
    "# Obtém as distribuições para os dados reais e sintéticos\n",
    "mu1, sigma1 = np.mean(np.squeeze(features_real),axis=0), np.cov(np.squeeze(features_real))\n",
    "mu2, sigma2 = np.mean(np.squeeze(features_fake),axis=0), np.cov(np.squeeze(features_fake))\n",
    "\n",
    "# Calcula o FID entre os dados reais e sintéticos\n",
    "fid_value = calculate_fid(mu1, sigma1, mu2, sigma2)\n",
    "print(f\"FID: {fid_value:.2f}\")"
   ]
  },
  {
   "cell_type": "markdown",
   "metadata": {},
   "source": [
    "# Calcula o SSIM"
   ]
  },
  {
   "cell_type": "code",
   "execution_count": 11,
   "metadata": {},
   "outputs": [
    {
     "data": {
      "text/plain": [
       "(512, 512)"
      ]
     },
     "execution_count": 11,
     "metadata": {},
     "output_type": "execute_result"
    }
   ],
   "source": [
    "# Obtém os vetores de dados reais e sintéticos\n",
    "\n",
    "dataset_real=[]\n",
    "dataset_fake=[]\n",
    "for i in range(5):\n",
    "    ct, lung = dataset_test.__getitem__(i)\n",
    "    dataset_real.append(ct.detach().numpy())\n",
    "\n",
    "    ct, lung = dataset_test.__getitem__(i+5)\n",
    "    dataset_fake.append(ct.detach().numpy())\n",
    "\n",
    "np.shape(np.squeeze(dataset_real[0]))"
   ]
  },
  {
   "cell_type": "code",
   "execution_count": 12,
   "metadata": {},
   "outputs": [
    {
     "name": "stdout",
     "output_type": "stream",
     "text": [
      "luminance: 1.00\n",
      "contrast: 1.00\n",
      "structure_similarity: 1.00\n",
      "luminance: 1.00\n",
      "contrast: 1.00\n",
      "structure_similarity: 1.00\n",
      "luminance: 1.00\n",
      "contrast: 1.00\n",
      "structure_similarity: 1.00\n",
      "luminance: 1.00\n",
      "contrast: 1.00\n",
      "structure_similarity: 1.00\n",
      "luminance: 1.00\n",
      "contrast: 1.00\n",
      "structure_similarity: 1.00\n",
      "1.0000000029998395 3.234989966031e-08\n"
     ]
    }
   ],
   "source": [
    "# Calcula SSIM entre dados reais e reais (verifica que saída é igual a 1 para entradas iguais)\n",
    "ssim = np.zeros(5)\n",
    "for i in range(5):\n",
    "    ssim[i] = my_ssim(np.squeeze(dataset_real[i]), np.squeeze(dataset_real[i]), 0.01, 0.03, 0.03)\n",
    "\n",
    "print(np.mean(ssim), np.std(ssim))"
   ]
  },
  {
   "cell_type": "code",
   "execution_count": 13,
   "metadata": {},
   "outputs": [
    {
     "name": "stdout",
     "output_type": "stream",
     "text": [
      "luminance: 1.00\n",
      "contrast: 1.00\n",
      "structure_similarity: 0.99\n",
      "luminance: 1.00\n",
      "contrast: 1.00\n",
      "structure_similarity: 0.99\n",
      "luminance: 1.00\n",
      "contrast: 1.00\n",
      "structure_similarity: 0.99\n",
      "luminance: 1.00\n",
      "contrast: 1.00\n",
      "structure_similarity: 0.99\n",
      "luminance: 1.00\n",
      "contrast: 1.00\n",
      "structure_similarity: 0.99\n",
      "0.9925000689677214 0.00016969069869950275\n"
     ]
    }
   ],
   "source": [
    "# Calcula SSIM entre dados reais e sintéticos\n",
    "ssim = np.zeros(5)\n",
    "for i in range(5):\n",
    "    ssim[i] = my_ssim(np.squeeze(dataset_real[i]), np.squeeze(dataset_fake[i]), 0.01, 0.03, 0.03)\n",
    "\n",
    "print(np.mean(ssim), np.std(ssim))"
   ]
  },
  {
   "cell_type": "markdown",
   "metadata": {},
   "source": [
    "# "
   ]
  }
 ],
 "metadata": {
  "kernelspec": {
   "display_name": "Python 3",
   "language": "python",
   "name": "python3"
  },
  "language_info": {
   "codemirror_mode": {
    "name": "ipython",
    "version": 3
   },
   "file_extension": ".py",
   "mimetype": "text/x-python",
   "name": "python",
   "nbconvert_exporter": "python",
   "pygments_lexer": "ipython3",
   "version": "3.12.5"
  }
 },
 "nbformat": 4,
 "nbformat_minor": 2
}
