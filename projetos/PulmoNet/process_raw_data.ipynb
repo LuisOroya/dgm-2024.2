{
 "cells": [
  {
   "cell_type": "code",
   "execution_count": null,
   "metadata": {},
   "outputs": [],
   "source": [
    "import numpy as np\n",
    "import matplotlib.pyplot as plt\n",
    "import torch\n",
    "import os\n",
    "import glob as glob"
   ]
  },
  {
   "cell_type": "code",
   "execution_count": null,
   "metadata": {},
   "outputs": [],
   "source": [
    "from utils import test_lung_segmentator,preprocessing_for_lung, test_processed_data, test_lung_dataset\n",
    "from datasets import rawCTData, lungCTData"
   ]
  },
  {
   "cell_type": "code",
   "execution_count": null,
   "metadata": {},
   "outputs": [],
   "source": [
    "device = 'cuda' if torch.cuda.is_available() else 'cpu'\n",
    "\n",
    "RAW_DATA_FOLDER = '/home/arthur/Documentos/transformers/data/atm22/'\n",
    "PROCESSED_DATA_FOLDER = '/home/arthur/Documentos/generativas/dgm-2024.2/projetos/PulmoNet/data/processed'"
   ]
  },
  {
   "cell_type": "code",
   "execution_count": null,
   "metadata": {},
   "outputs": [],
   "source": [
    "test_data = rawCTData('train')\n",
    "sample = test_lung_segmentator(test_data)\n",
    "plt.imshow(sample[len(sample)//2], cmap = 'gray')"
   ]
  },
  {
   "cell_type": "code",
   "execution_count": null,
   "metadata": {},
   "outputs": [],
   "source": [
    "preprocessing_for_lung()"
   ]
  },
  {
   "cell_type": "code",
   "execution_count": null,
   "metadata": {},
   "outputs": [],
   "source": [
    "ct_path = sorted(glob(os.path.join(PROCESSED_DATA_FOLDER, 'train', 'imagesTr', '*.npz')))\n",
    "print(len(ct_path))\n",
    "img = np.load(ct_path[random.randint(0, len(ct_path))])['arr_0']\n",
    "print(img.shape)"
   ]
  },
  {
   "cell_type": "code",
   "execution_count": null,
   "metadata": {},
   "outputs": [],
   "source": [
    "test_processed_data()"
   ]
  },
  {
   "cell_type": "code",
   "execution_count": null,
   "metadata": {},
   "outputs": [],
   "source": [
    "test_lung_dataset()"
   ]
  }
 ],
 "metadata": {
  "language_info": {
   "name": "python"
  }
 },
 "nbformat": 4,
 "nbformat_minor": 2
}
