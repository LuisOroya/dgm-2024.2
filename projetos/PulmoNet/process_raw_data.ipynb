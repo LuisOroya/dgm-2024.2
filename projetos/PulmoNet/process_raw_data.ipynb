{
 "cells": [
  {
   "cell_type": "code",
   "execution_count": null,
   "metadata": {},
   "outputs": [],
   "source": [
    "import numpy as np\n",
    "import random\n",
    "import matplotlib.pyplot as plt\n",
    "import torch\n",
    "import os\n",
    "import glob as glob"
   ]
  },
  {
   "cell_type": "code",
   "execution_count": null,
   "metadata": {},
   "outputs": [],
   "source": [
    "from utils import test_lung_segmentator,preprocessing_for_lung, test_processed_data, test_lung_dataset\n",
    "from datasets import rawCTData, lungCTData"
   ]
  },
  {
   "cell_type": "code",
   "execution_count": null,
   "metadata": {},
   "outputs": [],
   "source": [
    "device = 'cuda' if torch.cuda.is_available() else 'cpu'\n",
    "\n",
    "raw_data_folder = '/home/arthur/Documentos/transformers/data/atm22/'\n",
    "processed_data_folder = '/home/arthur/Documentos/generativas/dgm-2024.2/projetos/PulmoNet/data/processed'"
   ]
  },
  {
   "cell_type": "code",
   "execution_count": null,
   "metadata": {},
   "outputs": [],
   "source": [
    "test_data = rawCTData(raw_data_folder=raw_data_folder,mode='train')\n",
    "sample = test_lung_segmentator(data=test_data)\n",
    "plt.imshow(sample[len(sample)//2], cmap = 'gray')"
   ]
  },
  {
   "cell_type": "code",
   "execution_count": null,
   "metadata": {},
   "outputs": [],
   "source": [
    "preprocessing_for_lung(raw_data_folder=raw_data_folder,processed_data_folder=processed_data_folder)"
   ]
  },
  {
   "cell_type": "code",
   "execution_count": null,
   "metadata": {},
   "outputs": [],
   "source": [
    "ct_path = sorted(glob(os.path.join(processed_data_folder, 'train', 'imagesTr', '*.npz')))\n",
    "print(len(ct_path))\n",
    "img = np.load(ct_path[random.randint(0, len(ct_path))])['arr_0']\n",
    "print(img.shape)"
   ]
  },
  {
   "cell_type": "code",
   "execution_count": null,
   "metadata": {},
   "outputs": [],
   "source": [
    "test_processed_data(processed_data_folder=processed_data_folder)"
   ]
  },
  {
   "cell_type": "code",
   "execution_count": null,
   "metadata": {},
   "outputs": [],
   "source": [
    "test_lung_dataset(processed_data_folder=processed_data_folder)"
   ]
  }
 ],
 "metadata": {
  "language_info": {
   "name": "python"
  }
 },
 "nbformat": 4,
 "nbformat_minor": 2
}
